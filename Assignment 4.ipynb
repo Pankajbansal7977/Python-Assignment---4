{
 "cells": [
  {
   "cell_type": "markdown",
   "id": "aa545a04",
   "metadata": {},
   "source": [
    "# Assignment 4"
   ]
  },
  {
   "cell_type": "code",
   "execution_count": 1,
   "id": "c9fafe59",
   "metadata": {},
   "outputs": [
    {
     "data": {
      "text/plain": [
       "'Ans: The empty list represented by [] is a list that contains no items. This is similar to \\'\\' which represents an empty string\\n    exp. = list1 = []\\n          A = \" \"\\n '"
      ]
     },
     "execution_count": 1,
     "metadata": {},
     "output_type": "execute_result"
    }
   ],
   "source": [
    "#1.What exactly is [ ]?\n",
    "'''Ans: The empty list represented by [] is a list that contains no items. This is similar to '' which represents an empty string\n",
    "    exp. = list1 = []\n",
    "          A = \" \"\n",
    " '''         "
   ]
  },
  {
   "cell_type": "code",
   "execution_count": 4,
   "id": "8df286d5",
   "metadata": {},
   "outputs": [
    {
     "name": "stdout",
     "output_type": "stream",
     "text": [
      "[2, 4, 68, 10]\n",
      "[2, 4, 'hello', 10]\n"
     ]
    }
   ],
   "source": [
    "# 2.In a list of values stored in a variable called spam, how would you assign the value 'hello' as the third value? (Assume [2, 4, 6, 8, 10] are in spam.)\n",
    " # Ans: spam[2]='hello' in list indexing start with 0\n",
    " # exm.\n",
    "spam= [2,4,68,10]\n",
    "print(spam)\n",
    "spam[2] = \"hello\"\n",
    "print(spam)"
   ]
  },
  {
   "cell_type": "markdown",
   "id": "f61bae46",
   "metadata": {},
   "source": [
    "# Let's pretend the spam includes the list ['a','b','c',d'] for the next three queries."
   ]
  },
  {
   "cell_type": "code",
   "execution_count": 5,
   "id": "837e61af",
   "metadata": {},
   "outputs": [],
   "source": [
    " # 3. What is the value of spam[int(int('3'*2)//11)] ?\n",
    "  #  Ans: 'd' (Note that '3' * 2 is the string '33', which is passed to int() before being divided by 11. This eventually evaluates to 3, spam[3] is equal to d.)"
   ]
  },
  {
   "cell_type": "code",
   "execution_count": 14,
   "id": "826ac5cd",
   "metadata": {},
   "outputs": [
    {
     "name": "stdout",
     "output_type": "stream",
     "text": [
      "spam[int(int('3'*2)//11)] -> d\n"
     ]
    }
   ],
   "source": [
    "spam=['a','b','c','d']\n",
    "print(\"spam[int(int('3'*2)//11)] ->\",spam[int(int('3'*2)//11)])"
   ]
  },
  {
   "cell_type": "code",
   "execution_count": 15,
   "id": "bcedd810",
   "metadata": {},
   "outputs": [
    {
     "name": "stdout",
     "output_type": "stream",
     "text": [
      "['a', 'b', 'c', 'd']\n",
      "d\n"
     ]
    }
   ],
   "source": [
    "# 4. What is the value of spam[-1]?\n",
    "print(spam)\n",
    "print(spam[-1]) # its mean print last index"
   ]
  },
  {
   "cell_type": "code",
   "execution_count": 16,
   "id": "e0c3f545",
   "metadata": {},
   "outputs": [
    {
     "name": "stdout",
     "output_type": "stream",
     "text": [
      "['a', 'b', 'c', 'd']\n",
      "['a', 'b']\n"
     ]
    }
   ],
   "source": [
    "# 5. What is the value of spam[:2]?\n",
    "print(spam)\n",
    "print(spam[:2])# its mean start with zero and at 2 index"
   ]
  },
  {
   "cell_type": "markdown",
   "id": "ed35cda4",
   "metadata": {},
   "source": [
    "# Let's pretend bacon has the list [3.14,'cat',11,'cat',True] for the next three question"
   ]
  },
  {
   "cell_type": "code",
   "execution_count": 17,
   "id": "77270011",
   "metadata": {},
   "outputs": [
    {
     "name": "stdout",
     "output_type": "stream",
     "text": [
      "bacon.index('cat') -> 1\n"
     ]
    }
   ],
   "source": [
    " # 6. What is the value of bacon.index('cat')?\n",
    "   # Ans: The value of bacon.index('cat') is 1\n",
    "bacon=[3.14,'cat',11,'cat',True]\n",
    "print(\"bacon.index('cat') ->\",bacon.index('cat'))"
   ]
  },
  {
   "cell_type": "code",
   "execution_count": 18,
   "id": "c4019977",
   "metadata": {},
   "outputs": [
    {
     "name": "stdout",
     "output_type": "stream",
     "text": [
      "[3.14, 'cat', 11, 'cat', True]\n",
      "[3.14, 'cat', 11, 'cat', True, 99]\n"
     ]
    }
   ],
   "source": [
    " # 7. How does bacon.append(99) change the look of the list value in bacon?\n",
    "    # Example\n",
    "print(bacon)\n",
    "bacon.append(99) # appends 99 to the end of the list\n",
    "print(bacon)"
   ]
  },
  {
   "cell_type": "code",
   "execution_count": 19,
   "id": "069e4df7",
   "metadata": {},
   "outputs": [
    {
     "name": "stdout",
     "output_type": "stream",
     "text": [
      "[3.14, 'cat', 11, 'cat', True, 99]\n",
      "[3.14, 11, 'cat', True, 99]\n"
     ]
    }
   ],
   "source": [
    "# 8. How does bacon.remove('cat') change the look of the list in bacon?\n",
    "print(bacon)\n",
    "bacon.remove('cat')\n",
    "print(bacon)"
   ]
  },
  {
   "cell_type": "code",
   "execution_count": 20,
   "id": "e0238c85",
   "metadata": {},
   "outputs": [
    {
     "name": "stdout",
     "output_type": "stream",
     "text": [
      "['ML', 'DL', 'AI', 'CV', 'NLP', 'RNN', 'CNN', 'SVN']\n",
      "['RNN', 'CNN', 'SVN', 'RNN', 'CNN', 'SVN']\n"
     ]
    }
   ],
   "source": [
    "# 9.what are the list concatenation and list replication operations?\n",
    "# Example\n",
    "list_1 = ['ML','DL','AI','CV','NLP']\n",
    "list_2 = ['RNN','CNN','SVN']\n",
    "print(list_1 + list_2) # List Concatenation\n",
    "print(list_2*2) # List Replication"
   ]
  },
  {
   "cell_type": "code",
   "execution_count": 21,
   "id": "5c1f432b",
   "metadata": {},
   "outputs": [
    {
     "name": "stdout",
     "output_type": "stream",
     "text": [
      "[1, 2, 3, 4, 5, 6]\n",
      "[1, 2, 'Demo', 3, 4, 5, 6]\n"
     ]
    }
   ],
   "source": [
    "# 10.what is the difference between the list method append() and insert()?\n",
    "#Examples\n",
    "list = [1,2,3,4,5]\n",
    "list.append(6)\n",
    "print(list)\n",
    "list.insert(2,'Demo')\n",
    "print(list)"
   ]
  },
  {
   "cell_type": "code",
   "execution_count": 22,
   "id": "1ad98268",
   "metadata": {},
   "outputs": [
    {
     "data": {
      "text/plain": [
       "'Ans: The del statement and the remove() method are two ways to remove values from a list'"
      ]
     },
     "execution_count": 22,
     "metadata": {},
     "output_type": "execute_result"
    }
   ],
   "source": [
    "# 11. What are the two methods for removing items from a list?\n",
    "'''Ans: The del statement and the remove() method are two ways to remove values from a list'''"
   ]
  },
  {
   "cell_type": "code",
   "execution_count": 23,
   "id": "003b648c",
   "metadata": {},
   "outputs": [
    {
     "data": {
      "text/plain": [
       "'Ans: Both lists and strings can be passed to len() function, have indexes and slices, be used in for loops, be concatenated or replicated, and be used with the in and not in operators.'"
      ]
     },
     "execution_count": 23,
     "metadata": {},
     "output_type": "execute_result"
    }
   ],
   "source": [
    "# 12. Describe how list values and string values are identical.\n",
    "'''Ans: Both lists and strings can be passed to len() function, have indexes and slices, be used in for loops, be concatenated or replicated, and be used with the in and not in operators.'''"
   ]
  },
  {
   "cell_type": "code",
   "execution_count": 24,
   "id": "12ea8f3b",
   "metadata": {},
   "outputs": [
    {
     "data": {
      "text/plain": [
       "'Ans: Lists are Mutable, Indexable and Slicable. they can have values added, removed, or changed. Tuples are Immutable but Indexable and Slicable. the tuple values cannot be changed at all. Also, tuples are represented using parentheses, (), while lists use the square brackets, [].'"
      ]
     },
     "execution_count": 24,
     "metadata": {},
     "output_type": "execute_result"
    }
   ],
   "source": [
    "# 13. What's the difference between tuples and lists?\n",
    "'''Ans: Lists are Mutable, Indexable and Slicable. they can have values added, removed, or changed. Tuples are Immutable but Indexable and Slicable. the tuple values cannot be changed at all. Also, tuples are represented using parentheses, (), while lists use the square brackets, [].'''"
   ]
  },
  {
   "cell_type": "code",
   "execution_count": 25,
   "id": "d2caa6c5",
   "metadata": {},
   "outputs": [
    {
     "name": "stdout",
     "output_type": "stream",
     "text": [
      "<class 'int'>\n",
      "<class 'tuple'>\n"
     ]
    }
   ],
   "source": [
    "# 14. How do you type a tuple value that only contains the integer 42?\n",
    "tup1=(42)\n",
    "tup2=(42,)\n",
    "print(type(tup1))\n",
    "print(type(tup2))"
   ]
  },
  {
   "cell_type": "code",
   "execution_count": 26,
   "id": "8787aeac",
   "metadata": {},
   "outputs": [
    {
     "data": {
      "text/plain": [
       "'Ans: The tuple() and list() functions, respectively are used to convert a list to tuple and vice versa'"
      ]
     },
     "execution_count": 26,
     "metadata": {},
     "output_type": "execute_result"
    }
   ],
   "source": [
    "# 15. How do you get a list value's tuple form? How do you get a tuple value's list form?\n",
    "'''Ans: The tuple() and list() functions, respectively are used to convert a list to tuple and vice versa'''"
   ]
  },
  {
   "cell_type": "code",
   "execution_count": 27,
   "id": "577e7c04",
   "metadata": {},
   "outputs": [
    {
     "data": {
      "text/plain": [
       "'Ans: They contain references to list values.'"
      ]
     },
     "execution_count": 27,
     "metadata": {},
     "output_type": "execute_result"
    }
   ],
   "source": [
    "# 16. Variables that \"contain\" list values are not necessarily lists themselves. Instead, what do they contain?\n",
    "'''Ans: They contain references to list values.'''"
   ]
  },
  {
   "cell_type": "code",
   "execution_count": 28,
   "id": "f23fab4e",
   "metadata": {},
   "outputs": [
    {
     "data": {
      "text/plain": [
       "' Ans: The copy.copy() function will do a shallow copy of a list, while the copy.deepcopy() function will do a deep copy of a list. That is, only copy.deepcopy() will duplicate any lists inside the list.'"
      ]
     },
     "execution_count": 28,
     "metadata": {},
     "output_type": "execute_result"
    }
   ],
   "source": [
    "# 17. How do you distinguish between copy.copy() and copy.deepcopy()?\n",
    "''' Ans: The copy.copy() function will do a shallow copy of a list, while the copy.deepcopy() function will do a deep copy of a list. That is, only copy.deepcopy() will duplicate any lists inside the list.'''"
   ]
  },
  {
   "cell_type": "code",
   "execution_count": null,
   "id": "362a30e0",
   "metadata": {},
   "outputs": [],
   "source": []
  }
 ],
 "metadata": {
  "kernelspec": {
   "display_name": "Python 3 (ipykernel)",
   "language": "python",
   "name": "python3"
  },
  "language_info": {
   "codemirror_mode": {
    "name": "ipython",
    "version": 3
   },
   "file_extension": ".py",
   "mimetype": "text/x-python",
   "name": "python",
   "nbconvert_exporter": "python",
   "pygments_lexer": "ipython3",
   "version": "3.10.11"
  }
 },
 "nbformat": 4,
 "nbformat_minor": 5
}
